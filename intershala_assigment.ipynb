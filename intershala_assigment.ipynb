{
 "cells": [
  {
   "cell_type": "code",
   "execution_count": 1,
   "id": "b89abf39",
   "metadata": {},
   "outputs": [
    {
     "name": "stdout",
     "output_type": "stream",
     "text": [
      "Package ID: 1, Total Cost: 26\n",
      "Package ID: 2, Total Cost: 25.0\n",
      "Package ID: 3, Total Cost: 19\n",
      "Package ID: 4, Total Cost: 21.5\n",
      "Package ID: 5, Total Cost: 48\n"
     ]
    }
   ],
   "source": [
    "# Sample data\n",
    "data = [\n",
    "    {'Package ID': 1, 'Weight (kg)': 3, 'Distance (km)': 10, 'Delivery Type': 'Express'},\n",
    "    {'Package ID': 2, 'Weight (kg)': 5, 'Distance (km)': 25, 'Delivery Type': 'Standard'},\n",
    "    {'Package ID': 3, 'Weight (kg)': 2, 'Distance (km)': 5, 'Delivery Type': 'Express'},\n",
    "    {'Package ID': 4, 'Weight (kg)': 6, 'Distance (km)': 15, 'Delivery Type': 'Standard'},\n",
    "    {'Package ID': 5, 'Weight (kg)': 4, 'Distance (km)': 30, 'Delivery Type': 'Express'},\n",
    "]\n",
    "\n",
    "# grid_cost\n",
    "cost_grid = {\n",
    "    'Express': {\n",
    "        'Base Cost': 10,\n",
    "        'Cost per kg': 2,\n",
    "        'Cost per km': 1,\n",
    "    },\n",
    "    'Standard': {\n",
    "        'Base Cost': 5,\n",
    "        'Cost per kg': 1.5,\n",
    "        'Cost per km': 0.5,\n",
    "    }\n",
    "}\n",
    "\n",
    "# Calculate cost for each package in output\n",
    "output = []\n",
    "\n",
    "for package in data:\n",
    "    delivery_type = package['Delivery Type']\n",
    "    base_cost = cost_grid[delivery_type]['Base Cost']\n",
    "    cost_per_kg = cost_grid[delivery_type]['Cost per kg']\n",
    "    cost_per_km = cost_grid[delivery_type]['Cost per km']\n",
    "    \n",
    "    weight = package['Weight (kg)']\n",
    "    distance = package['Distance (km)']\n",
    "    \n",
    "    total_cost = base_cost + (weight * cost_per_kg) + (distance * cost_per_km)\n",
    "    \n",
    "    package['Total Cost'] = total_cost\n",
    "    output.append(package)\n",
    "\n",
    "# Print the output\n",
    "for package in output:\n",
    "    print(f\"Package ID: {package['Package ID']}, Total Cost: {package['Total Cost']}\")\n",
    "\n",
    "# Save the output to a file\n",
    "\n"
   ]
  },
  {
   "cell_type": "code",
   "execution_count": 2,
   "id": "434434dd",
   "metadata": {},
   "outputs": [],
   "source": [
    "with open('output.txt', 'w') as file:\n",
    "    for package in output:\n",
    "        file.write(f\"Package ID: {package['Package ID']}, Total Cost: {package['Total Cost']}\\n\")"
   ]
  },
  {
   "cell_type": "code",
   "execution_count": null,
   "id": "bdee185a",
   "metadata": {},
   "outputs": [],
   "source": []
  }
 ],
 "metadata": {
  "kernelspec": {
   "display_name": "Python 3 (ipykernel)",
   "language": "python",
   "name": "python3"
  },
  "language_info": {
   "codemirror_mode": {
    "name": "ipython",
    "version": 3
   },
   "file_extension": ".py",
   "mimetype": "text/x-python",
   "name": "python",
   "nbconvert_exporter": "python",
   "pygments_lexer": "ipython3",
   "version": "3.9.13"
  }
 },
 "nbformat": 4,
 "nbformat_minor": 5
}
